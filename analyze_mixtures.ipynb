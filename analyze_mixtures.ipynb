{
 "cells": [
  {
   "cell_type": "code",
   "execution_count": 1,
   "id": "916cee31-97e4-4d83-b85f-415510ad05f4",
   "metadata": {},
   "outputs": [],
   "source": [
    "import copy\n",
    "import os\n",
    "import ruamel.yaml as yaml\n",
    "import json\n",
    "from glob import glob\n",
    "import numpy as np\n",
    "from mp_api.client import MPRester\n",
    "from matminer.featurizers.site import CrystalNNFingerprint\n",
    "from matminer.featurizers.structure import SiteStatsFingerprint\n",
    "from matminer.featurizers.structure.sites import PartialsSiteStatsFingerprint\n",
    "import pymatgen.core\n",
    "from pymatgen.core import Lattice, Structure\n",
    "from pymatgen.analysis.local_env import site_is_of_motif_type\n",
    "from sklearn.decomposition import PCA\n",
    "import plotly.express as px\n",
    "from matplotlib import pyplot as plt\n",
    "from sklearn.manifold import TSNE\n",
    "from pymatgen.core.periodic_table import Element"
   ]
  },
  {
   "cell_type": "code",
   "execution_count": 2,
   "id": "33ccadb5-5e55-480f-af99-01867b646ea0",
   "metadata": {},
   "outputs": [],
   "source": [
    "def main():\n",
    "    ### ---- Load in structures\n",
    "    #directory = \"/g/g22/adelsten/SCEI/interface\"\n",
    "    directory = \"/g/g22/adelsten/SCEI/mixtures\"\n",
    "    fingprints = []\n",
    "    fingprintschem = []\n",
    "    structures = []\n",
    "    filenames,structnames = loaddata(directory)\n",
    "    test1 = True\n",
    "    sites = False\n",
    "    for filename in filenames:\n",
    "       #print(structname)\n",
    "       structure = Structure.from_file(filename)\n",
    "       if test1:\n",
    "           filename = \"/g/g22/adelsten/SCEI/interface/MLFF/int_slice_3layers.POSCAR.vasp\"\n",
    "           structure = Structure.from_file(filename)\n",
    "           #print(filename)\n",
    "           #fingprints.append(calc_cnn(structure,0))\n",
    "           ### ---- Test just one structure, to run quickly\n",
    "           fingprints.append(calc_ssf(structure))\n",
    "           filename = \"/g/g22/adelsten/SCEI/interface/MLFF/int_slice_1layer.POSCAR.vasp\"\n",
    "           structure = Structure.from_file(filename)\n",
    "           fingprints.append(calc_ssf(structure))\n",
    "           #fingprints.append(calc_ssfp(structure))\n",
    "           break\n",
    "       if sites:\n",
    "           op_types = load_ops()\n",
    "           cnfp = CrystalNNFingerprint(op_types, distance_cutoffs=None, x_diff_weight=0)\n",
    "           for idx,s in enumerate(structure.sites):\n",
    "               #if idx in [list of atoms at interface]\n",
    "               if str(s.specie.symbol)==\"Li\":\n",
    "                   sitefingdict = {\"Li\":[],\"O\":[],\"C\":[],\"F\":[]}\n",
    "                   sitefp = []\n",
    "                   sitefingdict[\"Li\"].append(calc_cnn(structure,idx))\n",
    "                   #fingprints.append(calc_cnn(structure,idx))\n",
    "                   nndata = cnfp.cnn.get_nn_data(structure, idx)\n",
    "                   cn = 12\n",
    "                   #cn = cnfp.cnn.get_cn(structure,idx)\n",
    "                   neigh_sites = [d[\"site_index\"] for d in nndata.cn_nninfo[cn]]\n",
    "                   for neigh in neigh_sites:\n",
    "                       symb = str(structure.sites[neigh].specie.symbol)\n",
    "                       sitefingdict[symb].append(calc_cnn(structure,neigh))\n",
    "                   for i in [\"Li\",\"O\",\"C\",\"F\"]:\n",
    "                       mean = np.mean(np.asarray(sitefingdict[i]),axis=0)\n",
    "                       if np.isnan(mean).any():\n",
    "                           sitefp.append(np.zeros(61))\n",
    "                       else:\n",
    "                           sitefp.append(mean)\n",
    "                   localfingerprint = np.hstack(sitefp)        #need to contatenate, not apppend\n",
    "                   fingprints.append(localfingerprint)\n",
    "\n",
    "                  #print(sitefingprint)\n",
    "           #print(np.asarray(fingprints).shape)\n",
    "           break\n",
    "       #fingprints.append(calc_ssf(structure))\n",
    "       fingprints.append(calc_ssfp(structure))\n",
    "       fingprintschem.append(calc_ssfp(structure,chem=True))\n",
    "\n",
    "    #np.save(\"fingerprints/pfingerprints_all_chem.npy\",np.asarray(fingprintschem))\n",
    "    np.save(\"fingerprints/fingerprints_int.npy\",np.asarray(fingprints))\n",
    "\n",
    "    ### ---- Load in fingerprints if already computed\n",
    "    #fingprints = np.load(\"fingerprints_all.npy\")"
   ]
  },
  {
   "cell_type": "code",
   "execution_count": 3,
   "id": "314196a4-17f7-403e-bf32-bf2388f87ba2",
   "metadata": {},
   "outputs": [],
   "source": [
    "### ---- Load in VASP data for mixture POSCARS in separate directories for each compound type\n",
    "def loaddata(directory):   ## Need to edit based on where you put the data \n",
    "    filenames = []\n",
    "    structnames = []\n",
    "    for subdir in glob(directory+\"/*/\", recursive = True):\n",
    "       for filename in glob(subdir+\"*\"):\n",
    "          fnsplit = filename.split(\"/\")\n",
    "          structname = fnsplit[6].split(\"_\")[0]+fnsplit[7].split(\"_\")[1]+fnsplit[7].split(\"_\")[2]\n",
    "          filenames.append(filename)\n",
    "          structnames.append(structname)\n",
    "    return filenames, structnames\n"
   ]
  },
  {
   "cell_type": "code",
   "execution_count": 4,
   "id": "5e983692-b807-497d-a526-4aa1a0d11579",
   "metadata": {},
   "outputs": [],
   "source": [
    "### ---- Calculate structure fingerprints."
   ]
  },
  {
   "cell_type": "code",
   "execution_count": 5,
   "id": "663271b1-2d9d-4445-91e4-78acdf884071",
   "metadata": {},
   "outputs": [],
   "source": [
    "def calc_cnn(struct,idx):\n",
    "   atomic_masses = {\"O\":16,\"C\":12,\"F\":18,\"Li\":3}\n",
    "   chem_dict = {\"atomic masses\":atomic_masses}\n",
    "   op_types = load_ops()\n",
    "   #cnfp = CrystalNNFingerprint(op_types, distance_cutoffs=None, x_diff_weight=0,chem_info=chem_dict)\n",
    "   cnfp = CrystalNNFingerprint.from_preset('ops', distance_cutoffs=None, x_diff_weight=0)\n",
    "   return cnfp.featurize(struct, idx)\n"
   ]
  },
  {
   "cell_type": "code",
   "execution_count": 7,
   "id": "faba7f26-f2c9-42e3-aaf4-d57ece7c10cd",
   "metadata": {},
   "outputs": [],
   "source": [
    "def calc_ssfp(struct, chem=False):\n",
    "   atomic_masses = {\"O\":16,\"C\":12,\"F\":18,\"Li\":3}\n",
    "   chem_dict = {\"atomic masses\":atomic_masses}\n",
    "   op_types = load_ops()\n",
    "   if chem:\n",
    "       cnfp = CrystalNNFingerprint(op_types, distance_cutoffs=None, x_diff_weight=0,chem_info=chem_dict)\n",
    "   else:\n",
    "       cnfp = CrystalNNFingerprint(op_types, distance_cutoffs=None, x_diff_weight=0)\n",
    "   ssfp = PartialsSiteStatsFingerprint(\n",
    "      #cnfp,\n",
    "      cnfp, stats=('mean'),\n",
    "      #cnfp, stats=('mean', 'std_dev', 'minimum', 'maximum'))\n",
    "      #CrystalNNFingerprint.from_preset('ops', distance_cutoffs=None, x_diff_weight=0,chem_info=chem_dict),\n",
    "      #CrystalNNFingerprint.from_preset('ops', distance_cutoffs=None, x_diff_weight=0),\n",
    "      include_elems=(\"Li\",\"O\",\"C\",\"F\"),exclude_elems=())\n",
    "      #stats=('mean', 'std_dev', 'minimum', 'maximum'),include_elems=(\"Li\",\"F\",\"O\"),exclude_elems=(\"C\"))\n",
    "   ssfp.fit([struct]) #Add in chemistry\n",
    "   #cnfp = CrystalNNFingerprint.from_preset('ops', distance_cutoffs=None, x_diff_weight=0)\n",
    "   #cnfp.featurize(struct, 0)\n",
    "   v_struct = np.array(ssfp.featurize(struct)) #Here is where we fit \"struct\" to all shapes loaded in op_types\n",
    "   return v_struct"
   ]
  },
  {
   "cell_type": "code",
   "execution_count": 8,
   "id": "400ef55e-7c66-4f8d-963f-2f2efc1c2a53",
   "metadata": {},
   "outputs": [],
   "source": [
    "def calc_ssf(struct):\n",
    "   atomic_masses = {\"O\":16,\"C\":12,\"F\":18,\"Li\":3}\n",
    "   chem_dict = {\"atomic masses\":atomic_masses}\n",
    "   op_types = load_ops()\n",
    "   cnfp = CrystalNNFingerprint(op_types, distance_cutoffs=None, x_diff_weight=0,chem_info=chem_dict)\n",
    "   #cnfp = CrystalNNFingerprint(op_types, distance_cutoffs=None, x_diff_weight=0)\n",
    "   ssf = SiteStatsFingerprint(\n",
    "      #cnfp)\n",
    "      cnfp, stats=('mean', 'std_dev', 'minimum', 'maximum'))\n",
    "      #CrystalNNFingerprint.from_preset('ops',distance_cutoffs=None, x_diff_weight=0),\n",
    "   v_struct = np.array(ssf.featurize(struct))\n",
    "   return v_struct\n"
   ]
  },
  {
   "cell_type": "code",
   "execution_count": 9,
   "id": "5023ea61-6455-4347-afe3-35adb08fb72e",
   "metadata": {},
   "outputs": [],
   "source": [
    "def load_ops():\n",
    "    \"\"\"\n",
    "    Load the file for the op types\n",
    "\n",
    "    Returns:\n",
    "        (dict)\n",
    "    \"\"\"\n",
    "    with open(\"/usr/WS2/adelsten/miniconda3/envs/pymatg/lib/python3.12/site-packages/matminer/featurizers/site/cn_target_motif_op.yaml\") as f:\n",
    "        cn_target_motif_op =  yaml.YAML(typ=\"safe\", pure=True).load(f)\n",
    "    op_types = copy.deepcopy(cn_target_motif_op)\n",
    "    for k in range(24):\n",
    "       if k + 1 in op_types:\n",
    "          op_types[k + 1].insert(0, \"wt\")\n",
    "       else:\n",
    "          op_types[k + 1] = [\"wt\"]\n",
    "    return op_types"
   ]
  },
  {
   "cell_type": "code",
   "execution_count": 10,
   "id": "72b09cc4-f14f-4b7e-b4f0-f1223619a79d",
   "metadata": {},
   "outputs": [],
   "source": [
    "def featureize_site(structure,idx):\n",
    "    return idx"
   ]
  },
  {
   "cell_type": "code",
   "execution_count": 11,
   "id": "eb63d605-8cbb-4f8a-82d3-5eb22bca831a",
   "metadata": {},
   "outputs": [
    {
     "ename": "FileNotFoundError",
     "evalue": "[Errno 2] No such file or directory: 'fingerprints/fingerprints_int.npy'",
     "output_type": "error",
     "traceback": [
      "\u001b[0;31m---------------------------------------------------------------------------\u001b[0m",
      "\u001b[0;31mFileNotFoundError\u001b[0m                         Traceback (most recent call last)",
      "Cell \u001b[0;32mIn[11], line 4\u001b[0m\n\u001b[1;32m      1\u001b[0m \u001b[38;5;66;03m#print('Distance between struct 1 and 2: {:.4f}'.format(np.linalg.norm(v_struct1 - v_struct2)))\u001b[39;00m\n\u001b[1;32m      3\u001b[0m \u001b[38;5;28;01mif\u001b[39;00m \u001b[38;5;18m__name__\u001b[39m \u001b[38;5;241m==\u001b[39m \u001b[38;5;124m\"\u001b[39m\u001b[38;5;124m__main__\u001b[39m\u001b[38;5;124m\"\u001b[39m:\n\u001b[0;32m----> 4\u001b[0m     \u001b[43mmain\u001b[49m\u001b[43m(\u001b[49m\u001b[43m)\u001b[49m\n",
      "Cell \u001b[0;32mIn[2], line 60\u001b[0m, in \u001b[0;36mmain\u001b[0;34m()\u001b[0m\n\u001b[1;32m     57\u001b[0m    fingprintschem\u001b[38;5;241m.\u001b[39mappend(calc_ssfp(structure,chem\u001b[38;5;241m=\u001b[39m\u001b[38;5;28;01mTrue\u001b[39;00m))\n\u001b[1;32m     59\u001b[0m \u001b[38;5;66;03m#np.save(\"fingerprints/pfingerprints_all_chem.npy\",np.asarray(fingprintschem))\u001b[39;00m\n\u001b[0;32m---> 60\u001b[0m \u001b[43mnp\u001b[49m\u001b[38;5;241;43m.\u001b[39;49m\u001b[43msave\u001b[49m\u001b[43m(\u001b[49m\u001b[38;5;124;43m\"\u001b[39;49m\u001b[38;5;124;43mfingerprints/fingerprints_int.npy\u001b[39;49m\u001b[38;5;124;43m\"\u001b[39;49m\u001b[43m,\u001b[49m\u001b[43mnp\u001b[49m\u001b[38;5;241;43m.\u001b[39;49m\u001b[43masarray\u001b[49m\u001b[43m(\u001b[49m\u001b[43mfingprints\u001b[49m\u001b[43m)\u001b[49m\u001b[43m)\u001b[49m\n",
      "File \u001b[0;32m<__array_function__ internals>:200\u001b[0m, in \u001b[0;36msave\u001b[0;34m(*args, **kwargs)\u001b[0m\n",
      "File \u001b[0;32m~/anaconda3/envs/new_matminer_env/lib/python3.8/site-packages/numpy/lib/npyio.py:518\u001b[0m, in \u001b[0;36msave\u001b[0;34m(file, arr, allow_pickle, fix_imports)\u001b[0m\n\u001b[1;32m    516\u001b[0m     \u001b[38;5;28;01mif\u001b[39;00m \u001b[38;5;129;01mnot\u001b[39;00m file\u001b[38;5;241m.\u001b[39mendswith(\u001b[38;5;124m'\u001b[39m\u001b[38;5;124m.npy\u001b[39m\u001b[38;5;124m'\u001b[39m):\n\u001b[1;32m    517\u001b[0m         file \u001b[38;5;241m=\u001b[39m file \u001b[38;5;241m+\u001b[39m \u001b[38;5;124m'\u001b[39m\u001b[38;5;124m.npy\u001b[39m\u001b[38;5;124m'\u001b[39m\n\u001b[0;32m--> 518\u001b[0m     file_ctx \u001b[38;5;241m=\u001b[39m \u001b[38;5;28;43mopen\u001b[39;49m\u001b[43m(\u001b[49m\u001b[43mfile\u001b[49m\u001b[43m,\u001b[49m\u001b[43m \u001b[49m\u001b[38;5;124;43m\"\u001b[39;49m\u001b[38;5;124;43mwb\u001b[39;49m\u001b[38;5;124;43m\"\u001b[39;49m\u001b[43m)\u001b[49m\n\u001b[1;32m    520\u001b[0m \u001b[38;5;28;01mwith\u001b[39;00m file_ctx \u001b[38;5;28;01mas\u001b[39;00m fid:\n\u001b[1;32m    521\u001b[0m     arr \u001b[38;5;241m=\u001b[39m np\u001b[38;5;241m.\u001b[39masanyarray(arr)\n",
      "\u001b[0;31mFileNotFoundError\u001b[0m: [Errno 2] No such file or directory: 'fingerprints/fingerprints_int.npy'"
     ]
    }
   ],
   "source": [
    "#print('Distance between struct 1 and 2: {:.4f}'.format(np.linalg.norm(v_struct1 - v_struct2)))\n",
    "\n",
    "if __name__ == \"__main__\":\n",
    "    main()"
   ]
  }
 ],
 "metadata": {
  "kernelspec": {
   "display_name": "Python (new_matminer_env)",
   "language": "python",
   "name": "new_matminer_env"
  },
  "language_info": {
   "codemirror_mode": {
    "name": "ipython",
    "version": 3
   },
   "file_extension": ".py",
   "mimetype": "text/x-python",
   "name": "python",
   "nbconvert_exporter": "python",
   "pygments_lexer": "ipython3",
   "version": "3.8.19"
  }
 },
 "nbformat": 4,
 "nbformat_minor": 5
}
